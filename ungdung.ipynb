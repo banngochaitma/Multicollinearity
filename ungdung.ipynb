{
 "cells": [
  {
   "cell_type": "code",
   "execution_count": 10,
   "id": "federal-airline",
   "metadata": {},
   "outputs": [],
   "source": [
    "import numpy as np\n"
   ]
  },
  {
   "cell_type": "code",
   "execution_count": 11,
   "id": "dimensional-speaking",
   "metadata": {},
   "outputs": [
    {
     "ename": "NameError",
     "evalue": "name 'pd' is not defined",
     "output_type": "error",
     "traceback": [
      "\u001b[1;31m---------------------------------------------------------------------------\u001b[0m",
      "\u001b[1;31mNameError\u001b[0m                                 Traceback (most recent call last)",
      "\u001b[1;32m<ipython-input-11-5eee1784a647>\u001b[0m in \u001b[0;36m<module>\u001b[1;34m\u001b[0m\n\u001b[0;32m      1\u001b[0m \u001b[0mcol_names\u001b[0m \u001b[1;33m=\u001b[0m \u001b[1;33m[\u001b[0m\u001b[1;34m's2'\u001b[0m\u001b[1;33m,\u001b[0m \u001b[1;34m's3'\u001b[0m\u001b[1;33m,\u001b[0m \u001b[1;34m's4'\u001b[0m\u001b[1;33m,\u001b[0m \u001b[1;34m's7'\u001b[0m\u001b[1;33m,\u001b[0m \u001b[1;34m's11'\u001b[0m\u001b[1;33m,\u001b[0m \u001b[1;34m's12'\u001b[0m\u001b[1;33m,\u001b[0m \u001b[1;34m's13'\u001b[0m\u001b[1;33m,\u001b[0m \u001b[1;34m's14'\u001b[0m\u001b[1;33m,\u001b[0m \u001b[1;34m's15'\u001b[0m\u001b[1;33m,\u001b[0m \u001b[1;34m's17'\u001b[0m\u001b[1;33m,\u001b[0m \u001b[1;34m's20'\u001b[0m\u001b[1;33m,\u001b[0m \u001b[1;34m's21'\u001b[0m\u001b[1;33m]\u001b[0m\u001b[1;33m\u001b[0m\u001b[1;33m\u001b[0m\u001b[0m\n\u001b[1;32m----> 2\u001b[1;33m \u001b[0mdata_train\u001b[0m \u001b[1;33m=\u001b[0m \u001b[0mpd\u001b[0m\u001b[1;33m.\u001b[0m\u001b[0mread_csv\u001b[0m\u001b[1;33m(\u001b[0m\u001b[1;34m'data/train.csv'\u001b[0m\u001b[1;33m)\u001b[0m\u001b[1;33m\u001b[0m\u001b[1;33m\u001b[0m\u001b[0m\n\u001b[0m\u001b[0;32m      3\u001b[0m \u001b[0mdata_test\u001b[0m \u001b[1;33m=\u001b[0m \u001b[0mpd\u001b[0m\u001b[1;33m.\u001b[0m\u001b[0mread_csv\u001b[0m\u001b[1;33m(\u001b[0m\u001b[1;34m'data/test.csv'\u001b[0m\u001b[1;33m)\u001b[0m\u001b[1;33m\u001b[0m\u001b[1;33m\u001b[0m\u001b[0m\n\u001b[0;32m      4\u001b[0m \u001b[0mX_train\u001b[0m \u001b[1;33m=\u001b[0m\u001b[0mdata_train\u001b[0m\u001b[1;33m[\u001b[0m\u001b[0mcol_names\u001b[0m\u001b[1;33m]\u001b[0m\u001b[1;33m\u001b[0m\u001b[1;33m\u001b[0m\u001b[0m\n\u001b[0;32m      5\u001b[0m \u001b[0my_train\u001b[0m \u001b[1;33m=\u001b[0m \u001b[0mdata_train\u001b[0m\u001b[1;33m[\u001b[0m\u001b[1;34m'ttf'\u001b[0m\u001b[1;33m]\u001b[0m\u001b[1;33m\u001b[0m\u001b[1;33m\u001b[0m\u001b[0m\n",
      "\u001b[1;31mNameError\u001b[0m: name 'pd' is not defined"
     ]
    }
   ],
   "source": [
    "col_names = ['s2', 's3', 's4', 's7', 's11', 's12', 's13', 's14', 's15', 's17', 's20', 's21']\n",
    "data_train = pd.read_csv('data/train.csv')\n",
    "data_test = pd.read_csv('data/test.csv')\n",
    "X_train =data_train[col_names]\n",
    "y_train = data_train['ttf']"
   ]
  },
  {
   "cell_type": "code",
   "execution_count": null,
   "id": "incomplete-orleans",
   "metadata": {},
   "outputs": [],
   "source": [
    "one = np.ones((X_train.shape[0], 1))\n",
    "Xbar = np.concatenate((one, X_train), axis = 1)"
   ]
  },
  {
   "cell_type": "code",
   "execution_count": null,
   "id": "mobile-singapore",
   "metadata": {},
   "outputs": [],
   "source": [
    "# A = np.dot(Xbar.T, Xbar)\n",
    "# b = np.dot(Xbar.T, y_train)\n",
    "# w = np.dot(np.linalg.pinv(A), b)\n",
    "# w"
   ]
  },
  {
   "cell_type": "code",
   "execution_count": null,
   "id": "regional-medicare",
   "metadata": {},
   "outputs": [],
   "source": [
    "# regr = LinearRegression(fit_intercept=False) \n",
    "# regr.fit(Xbar, y_train)\n",
    "# regr.coef_"
   ]
  },
  {
   "cell_type": "code",
   "execution_count": 22,
   "id": "patent-wheat",
   "metadata": {},
   "outputs": [
    {
     "data": {
      "text/plain": [
       "(13, 1)"
      ]
     },
     "execution_count": 22,
     "metadata": {},
     "output_type": "execute_result"
    }
   ],
   "source": [
    "X = np.array([[147, 150, 153, 158, 163, 165, 168, 170, 173, 175, 178, 180, 183]]).T\n",
    "X.shape"
   ]
  },
  {
   "cell_type": "code",
   "execution_count": 23,
   "id": "mature-priest",
   "metadata": {},
   "outputs": [
    {
     "data": {
      "text/plain": [
       "(13, 1)"
      ]
     },
     "execution_count": 23,
     "metadata": {},
     "output_type": "execute_result"
    }
   ],
   "source": [
    "y = np.array([[ 49, 50, 51,  54, 58, 59, 60, 62, 63, 64, 66, 67, 68]]).T\n",
    "y.shape"
   ]
  }
 ],
 "metadata": {
  "kernelspec": {
   "display_name": "Python 3",
   "language": "python",
   "name": "python3"
  },
  "language_info": {
   "codemirror_mode": {
    "name": "ipython",
    "version": 3
   },
   "file_extension": ".py",
   "mimetype": "text/x-python",
   "name": "python",
   "nbconvert_exporter": "python",
   "pygments_lexer": "ipython3",
   "version": "3.7.9"
  }
 },
 "nbformat": 4,
 "nbformat_minor": 5
}
