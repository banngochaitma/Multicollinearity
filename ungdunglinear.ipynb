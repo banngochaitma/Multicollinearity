{
 "cells": [
  {
   "cell_type": "code",
   "execution_count": 140,
   "id": "governing-dynamics",
   "metadata": {},
   "outputs": [],
   "source": [
    "import pandas as pd\n",
    "import numpy as np\n",
    "from sklearn.metrics import mean_squared_error\n",
    "from sklearn.linear_model import LinearRegression\n",
    "from sklearn import metrics"
   ]
  },
  {
   "cell_type": "code",
   "execution_count": 100,
   "id": "hazardous-athens",
   "metadata": {},
   "outputs": [],
   "source": [
    "col_names = ['s2', 's3', 's4', 's7', 's11', 's12', 's13', 's14', 's15', 's17', 's20', 's21']\n",
    "data_train = pd.read_csv('data/train.csv')\n",
    "data_test = pd.read_csv('data/test.csv')\n",
    "X_train =data_train[col_names]\n",
    "y_train = data_train['ttf']\n",
    "X_test = data_test[col_names]\n",
    "y_test = data_test['ttf']"
   ]
  },
  {
   "cell_type": "markdown",
   "id": "olympic-magazine",
   "metadata": {},
   "source": [
    "## áp dụng công thức"
   ]
  },
  {
   "cell_type": "code",
   "execution_count": 157,
   "id": "inside-morris",
   "metadata": {},
   "outputs": [
    {
     "data": {
      "text/plain": [
       "array([  -7.17788005,   -0.46688868,   -0.81087475,    7.27680854,\n",
       "        -39.26797485,   11.23344517,    1.53139891,   -0.62051656,\n",
       "       -127.24634018,   -2.00137619,   21.19163517,   43.95098003])"
      ]
     },
     "execution_count": 157,
     "metadata": {},
     "output_type": "execute_result"
    }
   ],
   "source": [
    "A = np.dot(X_train.T, X_train)\n",
    "b = np.dot(X_train.T, y_train)\n",
    "w = np.dot(np.linalg.pinv(A), b)\n",
    "# hệ số hồi quy\n",
    "w"
   ]
  },
  {
   "cell_type": "code",
   "execution_count": 163,
   "id": "heard-flood",
   "metadata": {},
   "outputs": [
    {
     "data": {
      "text/plain": [
       "0     161.744788\n",
       "1     121.213579\n",
       "2      82.830134\n",
       "3      96.177645\n",
       "4     114.946337\n",
       "         ...    \n",
       "95    165.558223\n",
       "96    107.507204\n",
       "97     96.566525\n",
       "98    161.230198\n",
       "99      4.382773\n",
       "Length: 100, dtype: float64"
      ]
     },
     "execution_count": 163,
     "metadata": {},
     "output_type": "execute_result"
    }
   ],
   "source": [
    "y_pred = np.sum(w*X_test,axis = 1)\n",
    "y_pred"
   ]
  },
  {
   "cell_type": "markdown",
   "id": "legendary-shuttle",
   "metadata": {},
   "source": [
    "## áp dụng hàm có sẵn"
   ]
  },
  {
   "cell_type": "code",
   "execution_count": 150,
   "id": "acoustic-resource",
   "metadata": {},
   "outputs": [
    {
     "data": {
      "text/plain": [
       "array([  -7.08623508,   -0.4596332 ,   -0.79636225,    7.09689047,\n",
       "        -38.58435669,   10.95862007,  -13.49193377,   -0.63812921,\n",
       "       -125.07937558,   -1.96193866,   20.74912844,   43.1220217 ])"
      ]
     },
     "execution_count": 150,
     "metadata": {},
     "output_type": "execute_result"
    }
   ],
   "source": [
    "regression = LinearRegression()\n",
    "regression.fit(X_train, y_train)\n",
    "# hệ số hồi quy\n",
    "w1 = regression.coef_\n",
    "w1"
   ]
  },
  {
   "cell_type": "code",
   "execution_count": 152,
   "id": "intimate-termination",
   "metadata": {},
   "outputs": [
    {
     "data": {
      "text/plain": [
       "36142.750327205395"
      ]
     },
     "execution_count": 152,
     "metadata": {},
     "output_type": "execute_result"
    }
   ],
   "source": [
    "w0 =  regression.intercept_ \n",
    "w0"
   ]
  },
  {
   "cell_type": "code",
   "execution_count": 166,
   "id": "stupid-parent",
   "metadata": {},
   "outputs": [
    {
     "data": {
      "text/plain": [
       "0     161.654513\n",
       "1     121.517581\n",
       "2      83.044663\n",
       "3      96.480562\n",
       "4     114.582613\n",
       "         ...    \n",
       "95    165.591838\n",
       "96    107.704936\n",
       "97     96.765383\n",
       "98    161.148790\n",
       "99      4.949056\n",
       "Length: 100, dtype: float64"
      ]
     },
     "execution_count": 166,
     "metadata": {},
     "output_type": "execute_result"
    }
   ],
   "source": [
    "y_pred = w0 + np.sum(w1*X_test,axis = 1)\n",
    "y_pred"
   ]
  },
  {
   "cell_type": "code",
   "execution_count": 136,
   "id": "billion-purse",
   "metadata": {},
   "outputs": [
    {
     "data": {
      "text/plain": [
       "array([161.65451256, 121.51758119,  83.04466309,  96.48056154,\n",
       "       114.58261333, 121.6313789 , 131.08481981,  95.87029293,\n",
       "       114.51148866, 117.40683296,  98.90946703, 111.47288134,\n",
       "        99.70624192, 114.79500736, 162.06372836, 137.04400232,\n",
       "        81.52368755,  79.14452195, 122.38472551,  23.6640085 ,\n",
       "       118.99599033, 143.38694699, 154.4773464 ,  33.6899708 ,\n",
       "       137.06222127, 143.67465931, 129.58768515, 113.90708685,\n",
       "       126.21729615,  99.44993644,  12.19215283, 108.12518069,\n",
       "       108.0651611 ,   6.59709218,  -0.60986656,  34.81273722,\n",
       "        81.51539197,  69.39779056, 154.6695948 ,  37.93732071,\n",
       "        92.70554016,  36.91179697,  78.0359954 , 121.29685799,\n",
       "        85.43464068,  67.38759629, 123.7073496 , 119.45573644,\n",
       "        20.81957288, 127.99232267, 120.76360422,  50.63997706,\n",
       "        41.57263569, 170.131978  , 140.8790971 ,  36.25243425,\n",
       "       104.37003496,  72.69633097, 164.06834611, 117.60016632,\n",
       "        52.64111105,  89.85904457,  84.71594426,  66.27325767,\n",
       "       170.87913673,  -2.46378754, 141.10274416,  13.80332826,\n",
       "       134.81085652, 108.83141299, 141.68292805,  98.48032043,\n",
       "       160.731829  , 103.35800739, 149.43561746,  -8.21047401,\n",
       "        60.63434901, 184.80525394, 117.49748102,  94.66729469,\n",
       "        -3.04992598,  13.56050971, 130.47277159,  76.9214511 ,\n",
       "       118.04342351, 109.25088876, 149.91081829, 135.48877953,\n",
       "       114.64398465,  47.6618023 ,  53.5831632 ,  35.44239606,\n",
       "        61.59492094,  68.40006765, 144.78786571, 165.59183755,\n",
       "       107.70493609,  96.76538345, 161.14878993,   4.94905613])"
      ]
     },
     "execution_count": 136,
     "metadata": {},
     "output_type": "execute_result"
    }
   ],
   "source": [
    "y_pred = regression.predict(X_test)\n",
    "y_pred"
   ]
  },
  {
   "cell_type": "code",
   "execution_count": 137,
   "id": "spanish-smoke",
   "metadata": {},
   "outputs": [
    {
     "data": {
      "text/plain": [
       "0.41504559932988916"
      ]
     },
     "execution_count": 137,
     "metadata": {},
     "output_type": "execute_result"
    }
   ],
   "source": [
    "# R bình % của dự đoán\n",
    "r_sq = regression.score(X_test, y_test)\n",
    "r_sq "
   ]
  },
  {
   "cell_type": "code",
   "execution_count": 142,
   "id": "every-simon",
   "metadata": {},
   "outputs": [
    {
     "data": {
      "text/plain": [
       "25.44318539541935"
      ]
     },
     "execution_count": 142,
     "metadata": {},
     "output_type": "execute_result"
    }
   ],
   "source": [
    "metrics.mean_absolute_error(y_test, y_pred)"
   ]
  },
  {
   "cell_type": "code",
   "execution_count": 146,
   "id": "delayed-prior",
   "metadata": {},
   "outputs": [
    {
     "data": {
      "text/plain": [
       "31.78269925452264"
      ]
     },
     "execution_count": 146,
     "metadata": {},
     "output_type": "execute_result"
    }
   ],
   "source": [
    "np.sqrt(metrics.mean_squared_error(y_test, y_pred))"
   ]
  },
  {
   "cell_type": "code",
   "execution_count": 148,
   "id": "passive-microwave",
   "metadata": {},
   "outputs": [
    {
     "data": {
      "text/html": [
       "<div>\n",
       "<style scoped>\n",
       "    .dataframe tbody tr th:only-of-type {\n",
       "        vertical-align: middle;\n",
       "    }\n",
       "\n",
       "    .dataframe tbody tr th {\n",
       "        vertical-align: top;\n",
       "    }\n",
       "\n",
       "    .dataframe thead th {\n",
       "        text-align: right;\n",
       "    }\n",
       "</style>\n",
       "<table border=\"1\" class=\"dataframe\">\n",
       "  <thead>\n",
       "    <tr style=\"text-align: right;\">\n",
       "      <th></th>\n",
       "      <th>thực</th>\n",
       "      <th>dự đoán</th>\n",
       "    </tr>\n",
       "  </thead>\n",
       "  <tbody>\n",
       "    <tr>\n",
       "      <th>0</th>\n",
       "      <td>112</td>\n",
       "      <td>161.654513</td>\n",
       "    </tr>\n",
       "    <tr>\n",
       "      <th>1</th>\n",
       "      <td>98</td>\n",
       "      <td>121.517581</td>\n",
       "    </tr>\n",
       "    <tr>\n",
       "      <th>2</th>\n",
       "      <td>69</td>\n",
       "      <td>83.044663</td>\n",
       "    </tr>\n",
       "    <tr>\n",
       "      <th>3</th>\n",
       "      <td>82</td>\n",
       "      <td>96.480562</td>\n",
       "    </tr>\n",
       "    <tr>\n",
       "      <th>4</th>\n",
       "      <td>91</td>\n",
       "      <td>114.582613</td>\n",
       "    </tr>\n",
       "    <tr>\n",
       "      <th>...</th>\n",
       "      <td>...</td>\n",
       "      <td>...</td>\n",
       "    </tr>\n",
       "    <tr>\n",
       "      <th>95</th>\n",
       "      <td>137</td>\n",
       "      <td>165.591838</td>\n",
       "    </tr>\n",
       "    <tr>\n",
       "      <th>96</th>\n",
       "      <td>82</td>\n",
       "      <td>107.704936</td>\n",
       "    </tr>\n",
       "    <tr>\n",
       "      <th>97</th>\n",
       "      <td>59</td>\n",
       "      <td>96.765383</td>\n",
       "    </tr>\n",
       "    <tr>\n",
       "      <th>98</th>\n",
       "      <td>117</td>\n",
       "      <td>161.148790</td>\n",
       "    </tr>\n",
       "    <tr>\n",
       "      <th>99</th>\n",
       "      <td>20</td>\n",
       "      <td>4.949056</td>\n",
       "    </tr>\n",
       "  </tbody>\n",
       "</table>\n",
       "<p>100 rows × 2 columns</p>\n",
       "</div>"
      ],
      "text/plain": [
       "    thực     dự đoán\n",
       "0    112  161.654513\n",
       "1     98  121.517581\n",
       "2     69   83.044663\n",
       "3     82   96.480562\n",
       "4     91  114.582613\n",
       "..   ...         ...\n",
       "95   137  165.591838\n",
       "96    82  107.704936\n",
       "97    59   96.765383\n",
       "98   117  161.148790\n",
       "99    20    4.949056\n",
       "\n",
       "[100 rows x 2 columns]"
      ]
     },
     "execution_count": 148,
     "metadata": {},
     "output_type": "execute_result"
    }
   ],
   "source": [
    "df = pd.DataFrame({'thực': y_test, 'dự đoán': y_pred})\n",
    "df"
   ]
  }
 ],
 "metadata": {
  "kernelspec": {
   "display_name": "Python 3",
   "language": "python",
   "name": "python3"
  },
  "language_info": {
   "codemirror_mode": {
    "name": "ipython",
    "version": 3
   },
   "file_extension": ".py",
   "mimetype": "text/x-python",
   "name": "python",
   "nbconvert_exporter": "python",
   "pygments_lexer": "ipython3",
   "version": "3.7.9"
  }
 },
 "nbformat": 4,
 "nbformat_minor": 5
}
